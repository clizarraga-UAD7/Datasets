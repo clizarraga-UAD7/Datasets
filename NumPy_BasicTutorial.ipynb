{
  "nbformat": 4,
  "nbformat_minor": 0,
  "metadata": {
    "colab": {
      "name": "NumPy_BasicTutorial",
      "provenance": [],
      "toc_visible": true,
      "authorship_tag": "ABX9TyOYE4mkaSFnyAYqBg245S2G",
      "include_colab_link": true
    },
    "kernelspec": {
      "name": "python3",
      "display_name": "Python 3"
    },
    "language_info": {
      "name": "python"
    }
  },
  "cells": [
    {
      "cell_type": "markdown",
      "metadata": {
        "id": "view-in-github",
        "colab_type": "text"
      },
      "source": [
        "<a href=\"https://colab.research.google.com/github/clizarraga-UAD7/Datasets/blob/main/NumPy_BasicTutorial.ipynb\" target=\"_parent\"><img src=\"https://colab.research.google.com/assets/colab-badge.svg\" alt=\"Open In Colab\"/></a>"
      ]
    },
    {
      "cell_type": "markdown",
      "source": [
        "<img src=\"https://numpy.org/devdocs/_static/numpylogo.svg\">\n",
        "\n",
        "# This is a very basic Numpy Tutorial\n",
        "In Python the [Numpy Library](https://numpy.org/devdocs/user/index.html), is used in mathematical, scientific, engineering, and data science programming.\n",
        "\n",
        "Numpy has a selection fo special libraries for: Linear Algebra and Matrix Algebra, Statistics, Fast Fourier Transforms, among others. \n",
        "\n"
      ],
      "metadata": {
        "id": "1iapK5t5RJdQ"
      }
    },
    {
      "cell_type": "code",
      "source": [
        "# Load into memory all libraries to be used \n",
        "# We import NumPy and use np as a reference to it.\n",
        "# Also the graphics library Matplotlib is loaded, and plt as a reference.\n",
        "import numpy as np\n",
        "import matplotlib.pyplot as plt\n",
        "\n",
        "# Use SHIFT+ENTER to process input cell\n"
      ],
      "metadata": {
        "id": "dVAxIYPFNPdg"
      },
      "execution_count": 9,
      "outputs": []
    },
    {
      "cell_type": "markdown",
      "source": [
        "# Use of elementary mathematical functions."
      ],
      "metadata": {
        "id": "gFayHO3jpyrT"
      }
    },
    {
      "cell_type": "markdown",
      "source": [
        "Example of use of trigonometric functions:\n",
        "$\\sin(x)$, $\\cos(x)$, $\\tan(x)$,... \n",
        "The number $\\pi$ is defined in numpy.\n",
        "\n",
        "Also $x$ will be defined as an array of values: $0, \\pi/4, \\pi/2, 3 \\pi/4, \\pi$\n",
        "\n",
        "(**Note**: Jupyter Notebooks accepts LaTEX mathematical notation)\n"
      ],
      "metadata": {
        "id": "7uAs0H_mUnDX"
      }
    },
    {
      "cell_type": "code",
      "source": [
        "# x is an array of 5 points, \n",
        "x = np.array([0, np.pi/4, np.pi/2, 3*np.pi/4, np.pi])\n",
        "y = np.sin(x)\n",
        "print('x=', x, '\\n', 'y=', y)\n",
        "# the \\n is newline printing command"
      ],
      "metadata": {
        "colab": {
          "base_uri": "https://localhost:8080/"
        },
        "id": "MoYXVoYGSs0P",
        "outputId": "e8632722-56a1-41e2-c382-f14ca2cdd1eb"
      },
      "execution_count": 7,
      "outputs": [
        {
          "output_type": "stream",
          "name": "stdout",
          "text": [
            "x= [0.         0.78539816 1.57079633 2.35619449 3.14159265] \n",
            " y= [0.00000000e+00 7.07106781e-01 1.00000000e+00 7.07106781e-01\n",
            " 1.22464680e-16]\n"
          ]
        }
      ]
    },
    {
      "cell_type": "code",
      "source": [
        "# We use the following code to plot this function with a grid \n",
        "# We don't need to understad all the code at this point.\n",
        "\n",
        "fig, ax = plt.subplots()\n",
        "ax.plot(x, y)\n",
        "\n",
        "ax.set(xlabel='x', ylabel='y',\n",
        "       title='A simple $\\sin(x)$ plot')\n",
        "ax.grid()\n",
        "\n",
        "#fig.savefig(\"test.png\")\n",
        "plt.show()\n"
      ],
      "metadata": {
        "colab": {
          "base_uri": "https://localhost:8080/",
          "height": 296
        },
        "id": "6UjwlurqTSSd",
        "outputId": "bc7f53aa-d82c-4f3d-9521-a10d1cc0f86e"
      },
      "execution_count": 10,
      "outputs": [
        {
          "output_type": "display_data",
          "data": {
            "image/png": "[encoded data removed]",
            "text/plain": [
              "<Figure size 432x288 with 1 Axes>"
            ]
          },
          "metadata": {
            "needs_background": "light"
          }
        }
      ]
    },
    {
      "cell_type": "markdown",
      "source": [
        "Not a beautiful plot. The *x* array has only 5 points.\n",
        "So we use the *np.arange* function.\n",
        "\n",
        "*numpy.arange(start, stop, step)*. \n",
        "\n",
        "**Note:** The arange does not include last point.\n"
      ],
      "metadata": {
        "id": "HoBOka9ta0aM"
      }
    },
    {
      "cell_type": "code",
      "source": [
        "# Redefine the x array with 20 points, therefore we recompute y.\n",
        "x=np.arange(0, np.pi, np.pi/20)\n",
        "y = np.sin(x)\n",
        "x"
      ],
      "metadata": {
        "colab": {
          "base_uri": "https://localhost:8080/"
        },
        "id": "zDZNh1Fraj6A",
        "outputId": "5a566141-4d8d-41fd-d148-2f7eefb188c2"
      },
      "execution_count": 21,
      "outputs": [
        {
          "output_type": "execute_result",
          "data": {
            "text/plain": [
              "array([0.        , 0.15707963, 0.31415927, 0.4712389 , 0.62831853,\n",
              "       0.78539816, 0.9424778 , 1.09955743, 1.25663706, 1.41371669,\n",
              "       1.57079633, 1.72787596, 1.88495559, 2.04203522, 2.19911486,\n",
              "       2.35619449, 2.51327412, 2.67035376, 2.82743339, 2.98451302])"
            ]
          },
          "metadata": {},
          "execution_count": 21
        }
      ]
    },
    {
      "cell_type": "code",
      "source": [
        "# We reuse the plotting code\n",
        "# We use the following code to plot this function\n",
        "# We don't need to understad all the code at this point.\n",
        "\n",
        "fig, ax = plt.subplots()\n",
        "ax.plot(x, y)\n",
        "\n",
        "ax.set(xlabel='x', ylabel='y',\n",
        "       title='A more refined $\\sin(x)$ plot')\n",
        "ax.grid()\n",
        "\n",
        "#fig.savefig(\"test.png\")\n",
        "plt.show()\n"
      ],
      "metadata": {
        "colab": {
          "base_uri": "https://localhost:8080/",
          "height": 296
        },
        "id": "3u4aX_Bqb6hT",
        "outputId": "04898752-1430-4a8a-bc6b-642b354f1dc7"
      },
      "execution_count": 22,
      "outputs": [
        {
          "output_type": "display_data",
          "data": {
            "image/png": "[encoded data removed]",
            "text/plain": [
              "<Figure size 432x288 with 1 Axes>"
            ]
          },
          "metadata": {
            "needs_background": "light"
          }
        }
      ]
    },
    {
      "cell_type": "markdown",
      "source": [
        "If we want to include the endpoint in the *x* array, there is another function\n",
        "\n",
        "*numpy.linspace(start, stop, num, endpoint)*\n",
        "\n"
      ],
      "metadata": {
        "id": "vVEe2fYWeRt4"
      }
    },
    {
      "cell_type": "code",
      "source": [
        "# Redefine the x array with 20 points, therefore we recompute y.\n",
        "# A second function z=cos(2x) is added\n",
        "x=np.linspace(0, np.pi, num=20, endpoint=True)\n",
        "y = np.sin(x)\n",
        "z = np.cos(2*x)\n",
        "x\n"
      ],
      "metadata": {
        "colab": {
          "base_uri": "https://localhost:8080/"
        },
        "id": "OKePthMYcIZB",
        "outputId": "737e7412-e832-4b31-b71b-c51a7b03feda"
      },
      "execution_count": 27,
      "outputs": [
        {
          "output_type": "execute_result",
          "data": {
            "text/plain": [
              "array([0.        , 0.16534698, 0.33069396, 0.49604095, 0.66138793,\n",
              "       0.82673491, 0.99208189, 1.15742887, 1.32277585, 1.48812284,\n",
              "       1.65346982, 1.8188168 , 1.98416378, 2.14951076, 2.31485774,\n",
              "       2.48020473, 2.64555171, 2.81089869, 2.97624567, 3.14159265])"
            ]
          },
          "metadata": {},
          "execution_count": 27
        }
      ]
    },
    {
      "cell_type": "code",
      "source": [
        "# We reuse the plotting code\n",
        "# We use the following code to plot this function\n",
        "# We don't need to understad all the code at this point.\n",
        "\n",
        "fig, ax = plt.subplots()\n",
        "ax.plot(x, y)\n",
        "ax.plot(x, z) # Added a second plot\n",
        "\n",
        "ax.set(xlabel='x', ylabel='y',\n",
        "       title='A $\\sin(x)$ and $\\cos(2 x)$ plot')\n",
        "ax.grid()\n",
        "\n",
        "#fig.savefig(\"test.png\")\n",
        "plt.show()\n"
      ],
      "metadata": {
        "colab": {
          "base_uri": "https://localhost:8080/",
          "height": 296
        },
        "id": "wDkupZEQfCH_",
        "outputId": "6eede8bf-91e2-49cf-d859-0a9d026c1d1b"
      },
      "execution_count": 30,
      "outputs": [
        {
          "output_type": "display_data",
          "data": {
            "image/png": "[encoded data removed]",
            "text/plain": [
              "<Figure size 432x288 with 1 Axes>"
            ]
          },
          "metadata": {
            "needs_background": "light"
          }
        }
      ]
    },
    {
      "cell_type": "markdown",
      "source": [
        "Similar applies to:\n",
        "\n",
        "\n",
        "*   **Basic functions:**  x**2, np.pow(x,n), np.sqrt(x), np.abs(x), np.max(x), np.min(x), ...\n",
        "*   **Exponential and logarithmic functions:** np.$\\exp(x)$, np.$\\log(x)$, np.${\\log}{10(x)}$, ...\n",
        "*   **hyperbolic functions:** np.$\\sinh(x)$, np.$\\cosh(x)$, np.$\\tanh(x)$, ...\n",
        "\n",
        "\n"
      ],
      "metadata": {
        "id": "EvERP-EAqUYH"
      }
    },
    {
      "cell_type": "markdown",
      "source": [
        "For more Numpy information and examples, please visit the [NumPy Tutorial](https://numpy.org/devdocs/user/quickstart.html) and the user guide on [mathematical functions](https://numpy.org/doc/stable/reference/routines.math.html).\n"
      ],
      "metadata": {
        "id": "doa6d1Wzh0Hj"
      }
    },
    {
      "cell_type": "markdown",
      "source": [
        "# Basic Statistics"
      ],
      "metadata": {
        "id": "RO_oi3QYugss"
      }
    },
    {
      "cell_type": "markdown",
      "source": [
        "**Numpy also provides statistical functions.**\n",
        "\n",
        "With the [Statistics package](https://numpy.org/doc/stable/reference/routines.statistics.html), includes the common functions: \n",
        "weighted average, arithmetic mean, median, standard deviation, variance and others."
      ],
      "metadata": {
        "id": "4AnmSsTEuyLf"
      }
    },
    {
      "cell_type": "code",
      "source": [
        "# Uniform random number generator [0, 1), between 0 and 1, excluding 1. \n",
        "rng = np.random.default_rng()\n"
      ],
      "metadata": {
        "id": "w6mGjcZquoMp"
      },
      "execution_count": 32,
      "outputs": []
    },
    {
      "cell_type": "code",
      "source": [
        "# Produce 1 random number\n",
        "x1 = rng.random()\n",
        "x1\n"
      ],
      "metadata": {
        "colab": {
          "base_uri": "https://localhost:8080/"
        },
        "id": "TocuC6RT0GIE",
        "outputId": "6a6b5ddd-3229-4e17-a017-61316086a3db"
      },
      "execution_count": 35,
      "outputs": [
        {
          "output_type": "execute_result",
          "data": {
            "text/plain": [
              "0.2841227286547505"
            ]
          },
          "metadata": {},
          "execution_count": 35
        }
      ]
    },
    {
      "cell_type": "code",
      "source": [
        "# Produce an arrar of 5 random numbers\n",
        "x5 = rng.random((5,)) \n",
        "x5"
      ],
      "metadata": {
        "colab": {
          "base_uri": "https://localhost:8080/"
        },
        "id": "XYBLiYTi0Lhl",
        "outputId": "4dd73c3a-6735-4a07-e124-52254c7ac4ad"
      },
      "execution_count": 36,
      "outputs": [
        {
          "output_type": "execute_result",
          "data": {
            "text/plain": [
              "array([0.4904488 , 0.35245073, 0.20095337, 0.58661604, 0.26712851])"
            ]
          },
          "metadata": {},
          "execution_count": 36
        }
      ]
    },
    {
      "cell_type": "code",
      "source": [
        "# Produce a random 3 rows and 2 columns array, with random values between -1 and 1.\n",
        "x23 = rng.random((3, 2)) - 1\n",
        "x23"
      ],
      "metadata": {
        "colab": {
          "base_uri": "https://localhost:8080/"
        },
        "id": "Y-ibXJbW0t4k",
        "outputId": "0a029df7-b96f-4547-efb9-4260974a1275"
      },
      "execution_count": 37,
      "outputs": [
        {
          "output_type": "execute_result",
          "data": {
            "text/plain": [
              "array([[-0.73258731, -0.93078064],\n",
              "       [-0.80344497, -0.73564322],\n",
              "       [-0.48518869, -0.56277851]])"
            ]
          },
          "metadata": {},
          "execution_count": 37
        }
      ]
    },
    {
      "cell_type": "code",
      "source": [
        "# Compute the mean, std dev and median\n",
        "x5_mean = np.mean(x5)\n",
        "x5_std = np.std(x5)\n",
        "x5_median = np.median(x5)\n",
        "print('x5 mean = ', x5_mean, ', stddev = ', x5_std, ', median = ', x5_median)\n"
      ],
      "metadata": {
        "colab": {
          "base_uri": "https://localhost:8080/"
        },
        "id": "pOFrZflV1Z5s",
        "outputId": "f3fcc78f-e83f-4dba-d39b-d8ff25e32b37"
      },
      "execution_count": 38,
      "outputs": [
        {
          "output_type": "stream",
          "name": "stdout",
          "text": [
            "x5 mean =  0.3795194902625596 , stddev =  0.1417353897171517 , median =  0.3524507321272208\n"
          ]
        }
      ]
    },
    {
      "cell_type": "markdown",
      "source": [
        "**Note:** Python starts counting at 0. So the x23 array, has rows 0,1,2 and columns 0,1. \n",
        "\n",
        "We show how to extract information from a multidimensional array. "
      ],
      "metadata": {
        "id": "w_aZUxpI3XRV"
      }
    },
    {
      "cell_type": "code",
      "source": [
        "# To extract second column (i.e. column 1), we type\n",
        "x23[:,1]\n",
        "# where the : symbol means all rows"
      ],
      "metadata": {
        "colab": {
          "base_uri": "https://localhost:8080/"
        },
        "id": "5vHOiFz72lCF",
        "outputId": "00af0914-7b70-48f0-8c7c-6d5bf875a13c"
      },
      "execution_count": 42,
      "outputs": [
        {
          "output_type": "execute_result",
          "data": {
            "text/plain": [
              "array([-0.93078064, -0.73564322, -0.56277851])"
            ]
          },
          "metadata": {},
          "execution_count": 42
        }
      ]
    },
    {
      "cell_type": "code",
      "source": [
        "# To extract the third row (i.e. row 1), we type\n",
        "x23[2,:]\n",
        "# where the : symbol means all colun¡mns in this case"
      ],
      "metadata": {
        "colab": {
          "base_uri": "https://localhost:8080/"
        },
        "id": "k1hTBmyS2y6G",
        "outputId": "16741eb7-2bba-4dfa-c6a7-195b3d134cf4"
      },
      "execution_count": 43,
      "outputs": [
        {
          "output_type": "execute_result",
          "data": {
            "text/plain": [
              "array([-0.48518869, -0.56277851])"
            ]
          },
          "metadata": {},
          "execution_count": 43
        }
      ]
    },
    {
      "cell_type": "code",
      "source": [
        "# To extract a specific value, for example third row and second column\n",
        "x23[2,1]\n"
      ],
      "metadata": {
        "colab": {
          "base_uri": "https://localhost:8080/"
        },
        "id": "DEe4HaXq4iy0",
        "outputId": "b60c496a-e8f9-41ef-ddd1-c53f70b19743"
      },
      "execution_count": 44,
      "outputs": [
        {
          "output_type": "execute_result",
          "data": {
            "text/plain": [
              "-0.5627785140203898"
            ]
          },
          "metadata": {},
          "execution_count": 44
        }
      ]
    },
    {
      "cell_type": "markdown",
      "source": [
        "**Plotting a histogram**"
      ],
      "metadata": {
        "id": "tKnWDYIe_CZf"
      }
    },
    {
      "cell_type": "code",
      "source": [
        "# Will use a pseudorandom generator \n",
        "rng = np.random.default_rng()\n",
        "# Generate 200 random numbers of a Standard Gaussian distribution.\n",
        "a = rng.standard_normal(200)\n",
        "# Plot the histogram using Matplotlib hist function \n",
        "_ = plt.hist(a, bins='auto', facecolor='steelblue', alpha=0.75)\n",
        "plt.grid(True)\n",
        "plt.xlabel('Values')\n",
        "plt.ylabel('Frequency')\n",
        "plt.title('Histogram of Normal Distribution')\n",
        "plt.show()"
      ],
      "metadata": {
        "colab": {
          "base_uri": "https://localhost:8080/",
          "height": 295
        },
        "id": "1Ah5FiqR45-x",
        "outputId": "f4c54abe-33b7-4e4c-d04f-fc9ade349290"
      },
      "execution_count": 62,
      "outputs": [
        {
          "output_type": "display_data",
          "data": {
            "image/png": "[encoded data removed]",
            "text/plain": [
              "<Figure size 432x288 with 1 Axes>"
            ]
          },
          "metadata": {
            "needs_background": "light"
          }
        }
      ]
    },
    {
      "cell_type": "code",
      "source": [
        ""
      ],
      "metadata": {
        "id": "lBu3f-en-nnk"
      },
      "execution_count": null,
      "outputs": []
    },
    {
      "cell_type": "markdown",
      "source": [
        "**Linear Regression (Least squares fit)**\n",
        "\n",
        "Lets design an artificial set of (x,y) values, simulating a random distributed set of points along a line. \n",
        "\n",
        "Numpy has a Least Squares fit function in its Linalg library.\n"
      ],
      "metadata": {
        "id": "TwXy2THgEAH3"
      }
    },
    {
      "cell_type": "code",
      "source": [
        "# Construct the experimental data\n",
        "# The y values are distributed along a straight line of slope 2 with +/- 5 error.\n",
        "\n",
        "x = np.linspace(0, 10, num=20, endpoint=True)\n",
        "y = 2*x + 5*rng.random((20,))\n",
        "y"
      ],
      "metadata": {
        "colab": {
          "base_uri": "https://localhost:8080/"
        },
        "id": "DEn2d_WxEmbh",
        "outputId": "970a297b-0d54-491a-fd74-b22b3a48b02a"
      },
      "execution_count": 80,
      "outputs": [
        {
          "output_type": "execute_result",
          "data": {
            "text/plain": [
              "array([ 4.00655953,  1.14138602,  5.7301436 ,  6.0267597 ,  9.05043919,\n",
              "       10.15851251,  8.25329442,  7.44184878,  9.87858466,  9.64445747,\n",
              "       12.11863773, 12.27123284, 15.42685981, 14.79785352, 15.51374204,\n",
              "       16.27488767, 17.46961094, 19.88144388, 19.01493903, 20.44139011])"
            ]
          },
          "metadata": {},
          "execution_count": 80
        }
      ]
    },
    {
      "cell_type": "markdown",
      "source": [
        "The least squares problem can be writen as\n",
        "\n",
        "$y = \\mathbf{A} p$, \n",
        "\n",
        "where \n",
        "\n",
        "$\\mathbf{A} = [[x \\ \\ 1]]$ \n",
        "\n",
        "is the matrix composed by the x values and 1 values. And  $p = m,c$, is the constant parameter matrix where $m$ is the slope of the fitted line, and $c$ is the intersection point at $x=0$.\n"
      ],
      "metadata": {
        "id": "hIpmrvcjIb0c"
      }
    },
    {
      "cell_type": "code",
      "source": [
        "# We construct an array of array and transpose it.\n",
        "# This would be our experimental data sample.\n",
        "A = np.vstack([x, np.ones(len(x))]).T\n",
        "A"
      ],
      "metadata": {
        "colab": {
          "base_uri": "https://localhost:8080/"
        },
        "id": "78C6wM2tFGoI",
        "outputId": "093245a2-0eae-4328-cdee-12e7c14ecb1c"
      },
      "execution_count": 81,
      "outputs": [
        {
          "output_type": "execute_result",
          "data": {
            "text/plain": [
              "array([[ 0.        ,  1.        ],\n",
              "       [ 0.52631579,  1.        ],\n",
              "       [ 1.05263158,  1.        ],\n",
              "       [ 1.57894737,  1.        ],\n",
              "       [ 2.10526316,  1.        ],\n",
              "       [ 2.63157895,  1.        ],\n",
              "       [ 3.15789474,  1.        ],\n",
              "       [ 3.68421053,  1.        ],\n",
              "       [ 4.21052632,  1.        ],\n",
              "       [ 4.73684211,  1.        ],\n",
              "       [ 5.26315789,  1.        ],\n",
              "       [ 5.78947368,  1.        ],\n",
              "       [ 6.31578947,  1.        ],\n",
              "       [ 6.84210526,  1.        ],\n",
              "       [ 7.36842105,  1.        ],\n",
              "       [ 7.89473684,  1.        ],\n",
              "       [ 8.42105263,  1.        ],\n",
              "       [ 8.94736842,  1.        ],\n",
              "       [ 9.47368421,  1.        ],\n",
              "       [10.        ,  1.        ]])"
            ]
          },
          "metadata": {},
          "execution_count": 81
        }
      ]
    },
    {
      "cell_type": "code",
      "source": [
        "# We call the lstsq function from the Linear Algebra library of Numpy to solve for m and c. \n",
        "m, c = np.linalg.lstsq(A, y, rcond=None)[0]\n",
        "print('Linear fit: Slope m = ', m, ', and intersection point c = ', c)\n"
      ],
      "metadata": {
        "colab": {
          "base_uri": "https://localhost:8080/"
        },
        "id": "l1242u3gFITK",
        "outputId": "ec7bfef7-f0c8-4be2-b778-160ce94be1a0"
      },
      "execution_count": 85,
      "outputs": [
        {
          "output_type": "stream",
          "name": "stdout",
          "text": [
            "Linear fit: Slope m =  1.714562635909301 , and intersection point c =  3.15431599303805\n"
          ]
        }
      ]
    },
    {
      "cell_type": "code",
      "source": [
        "# Plot the Least squares linear fit\n",
        "_ = plt.plot(x, y, 'o', label='Original data', markersize=6)\n",
        "_ = plt.plot(x, m*x + c, 'r', label='Fitted line')\n",
        "_ = plt.legend()\n",
        "plt.grid(True)\n",
        "plt.xlabel('x')\n",
        "plt.ylabel('Value')\n",
        "plt.title('Least squares fit')\n",
        "plt.show()\n"
      ],
      "metadata": {
        "colab": {
          "base_uri": "https://localhost:8080/",
          "height": 295
        },
        "id": "HTv5Fry_F-Hw",
        "outputId": "54ecc128-3e9f-40d2-fb82-cc2e4b7459fe"
      },
      "execution_count": 86,
      "outputs": [
        {
          "output_type": "display_data",
          "data": {
            "image/png": "[encoded data removed]",
            "text/plain": [
              "<Figure size 432x288 with 1 Axes>"
            ]
          },
          "metadata": {
            "needs_background": "light"
          }
        }
      ]
    },
    {
      "cell_type": "code",
      "source": [
        ""
      ],
      "metadata": {
        "id": "Ry5irVbnGm20"
      },
      "execution_count": null,
      "outputs": []
    }
  ]
}